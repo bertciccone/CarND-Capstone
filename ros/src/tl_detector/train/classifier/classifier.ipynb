{
 "cells": [
  {
   "cell_type": "code",
   "execution_count": 12,
   "metadata": {},
   "outputs": [],
   "source": [
    "import os\n",
    "import numpy as np\n",
    "\n",
    "import skimage\n",
    "import skimage.io\n",
    "import skimage.transform\n",
    "\n",
    "from sklearn.model_selection import StratifiedShuffleSplit\n",
    "import sklearn.preprocessing\n",
    "\n",
    "from keras.preprocessing.image import ImageDataGenerator\n",
    "from keras.models import Sequential\n",
    "from keras.models import load_model\n",
    "from keras.layers import Conv2D, MaxPooling2D\n",
    "from keras.layers import Activation, Dropout, Flatten, Dense\n",
    "from keras import backend as K\n"
   ]
  },
  {
   "cell_type": "code",
   "execution_count": 13,
   "metadata": {},
   "outputs": [],
   "source": [
    "IMG_WIDTH=32\n",
    "IMG_HEIGHT=64\n",
    "NUM_CLASSES=4\n",
    "CLASSES=['red', 'yellow', 'green', 'unknown']\n",
    "\n",
    "ENV='sim'   # sim or lot"
   ]
  },
  {
   "cell_type": "code",
   "execution_count": 14,
   "metadata": {},
   "outputs": [],
   "source": [
    "def load_image(path):\n",
    "    # load image\n",
    "    img = skimage.io.imread(path)\n",
    "    \n",
    "    # convert to floating point\n",
    "    img = img / 255.0\n",
    "       \n",
    "    return img\n"
   ]
  },
  {
   "cell_type": "code",
   "execution_count": 15,
   "metadata": {},
   "outputs": [],
   "source": [
    "class DataSet:\n",
    "    def __init__(self):\n",
    "        self.labels = []\n",
    "        self.labels_oh = None\n",
    "        self.image_paths = []\n",
    "        self.num_samples = 0\n",
    "        self.images = None\n",
    "\n",
    "        self.indices_train = None\n",
    "        self.indices_val = None\n",
    "        \n",
    "        self.generator_train = None\n",
    "        self.generator_valid = None\n",
    "\n",
    "    def load_data(self):\n",
    "        # load data\n",
    "        for label, name in enumerate(CLASSES):\n",
    "            for root, dirs, files in os.walk(os.path.join('..', 'data_lights', ENV, name)):\n",
    "                for filename in files:\n",
    "                    self.labels.append(label)\n",
    "                    self.image_paths.append(os.path.join(root,filename))\n",
    "                    \n",
    "        self.images = np.array([load_image(path) for path in self.image_paths])\n",
    "\n",
    "        # process data\n",
    "        self.labels = np.array(self.labels)\n",
    "        self.images = np.array(self.images)\n",
    "\n",
    "        lb = sklearn.preprocessing.LabelBinarizer()\n",
    "        self.labels_oh = lb.fit_transform(self.labels)\n",
    "        \n",
    "        self.num_samples = self.labels.shape[0]\n",
    "\n",
    "        # split dataset\n",
    "        ss = StratifiedShuffleSplit(n_splits=1, test_size=0.2)\n",
    "        splitter = ss.split(np.zeros(self.num_samples), self.labels_oh)\n",
    "        self.indices_train, self.indices_val = next(splitter)\n",
    "        \n",
    "    def create_generators(self, batch_size=16):\n",
    "        # define data-generator for training set (zoom and flip the images)\n",
    "        train_datagen = ImageDataGenerator(\n",
    "            shear_range=0.0,\n",
    "            zoom_range=0.2,\n",
    "            rotation_range=0,\n",
    "            horizontal_flip=True)\n",
    "\n",
    "        self.generator_train = train_datagen.flow(\n",
    "            self.images[self.indices_train],\n",
    "            self.labels_oh[self.indices_train],\n",
    "            batch_size=batch_size)\n",
    "\n",
    "        # define data-generator for testing/validation (no modification)\n",
    "        test_datagen = ImageDataGenerator()\n",
    "        self.generator_valid = test_datagen.flow(\n",
    "            self.images[self.indices_val],\n",
    "            self.labels_oh[self.indices_val],\n",
    "            batch_size=batch_size)\n",
    "     \n",
    "dataset = DataSet()"
   ]
  },
  {
   "cell_type": "code",
   "execution_count": 16,
   "metadata": {},
   "outputs": [],
   "source": [
    "def create_model():\n",
    "    if K.image_data_format() == 'channels_first':\n",
    "        input_shape = (3, IMG_HEIGHT, IMG_WIDTH)\n",
    "    else:\n",
    "        input_shape = (IMG_HEIGHT, IMG_WIDTH, 3)\n",
    "        \n",
    "    model = Sequential()\n",
    "    model.add(Conv2D(16, (1, 1), input_shape=input_shape))\n",
    "    model.add(Activation('relu'))\n",
    "    \n",
    "    model.add(Conv2D(32, (3, 3)))\n",
    "    model.add(Activation('relu'))\n",
    "    model.add(MaxPooling2D(pool_size=(2, 2)))\n",
    "\n",
    "    model.add(Conv2D(32, (3, 3)))\n",
    "    model.add(Activation('relu'))\n",
    "    model.add(MaxPooling2D(pool_size=(2, 2)))\n",
    "\n",
    "    model.add(Conv2D(64, (3, 3)))\n",
    "    model.add(Activation('relu'))\n",
    "    model.add(MaxPooling2D(pool_size=(2, 2)))\n",
    "\n",
    "    model.add(Flatten())\n",
    "    model.add(Dense(1024, activation='relu'))\n",
    "    model.add(Dropout(0.2))\n",
    "\n",
    "    model.add(Dense(1024, activation='relu'))\n",
    "    model.add(Dropout(0.2))\n",
    "\n",
    "    model.add(Dense(64, activation='relu'))\n",
    "    model.add(Dense(NUM_CLASSES, activation='softmax'))           \n",
    "    \n",
    "    model.compile(loss='categorical_crossentropy',\n",
    "                           optimizer='rmsprop',\n",
    "                           metrics=['accuracy'])\n",
    "    \n",
    "    return model\n"
   ]
  },
  {
   "cell_type": "code",
   "execution_count": 17,
   "metadata": {},
   "outputs": [],
   "source": [
    "def checkpoint_file():\n",
    "    return \"classifier_{}.h5\".format(ENV)"
   ]
  },
  {
   "cell_type": "code",
   "execution_count": 18,
   "metadata": {
    "scrolled": false
   },
   "outputs": [],
   "source": [
    "model = create_model()"
   ]
  },
  {
   "cell_type": "code",
   "execution_count": 19,
   "metadata": {},
   "outputs": [],
   "source": [
    "dataset.load_data()"
   ]
  },
  {
   "cell_type": "code",
   "execution_count": 20,
   "metadata": {},
   "outputs": [],
   "source": [
    "dataset.create_generators()"
   ]
  },
  {
   "cell_type": "code",
   "execution_count": 21,
   "metadata": {},
   "outputs": [],
   "source": [
    "def classifier_train(p_epochs, p_batch_size=16):     \n",
    "    # train the model\n",
    "    model.fit_generator(\n",
    "        dataset.generator_train,\n",
    "        steps_per_epoch=(len(dataset.indices_train) // p_batch_size)*2,\n",
    "        epochs=p_epochs,\n",
    "        verbose=1,\n",
    "        validation_data=dataset.generator_valid,\n",
    "        validation_steps=len(dataset.indices_val) // p_batch_size)\n",
    "\n",
    "    model.save(checkpoint_file())"
   ]
  },
  {
   "cell_type": "code",
   "execution_count": 22,
   "metadata": {
    "scrolled": false
   },
   "outputs": [
    {
     "name": "stdout",
     "output_type": "stream",
     "text": [
      "Epoch 1/20\n",
      "260/260 [==============================] - 2s - loss: 0.2320 - acc: 0.9244 - val_loss: 0.1089 - val_acc: 0.9688\n",
      "Epoch 2/20\n",
      "260/260 [==============================] - 2s - loss: 0.1091 - acc: 0.9747 - val_loss: 0.0786 - val_acc: 0.9862\n",
      "Epoch 3/20\n",
      "260/260 [==============================] - 2s - loss: 0.1210 - acc: 0.9756 - val_loss: 0.0915 - val_acc: 0.9882\n",
      "Epoch 4/20\n",
      "260/260 [==============================] - 2s - loss: 0.0884 - acc: 0.9836 - val_loss: 0.0732 - val_acc: 0.9882\n",
      "Epoch 5/20\n",
      "260/260 [==============================] - 2s - loss: 0.0888 - acc: 0.9798 - val_loss: 0.1138 - val_acc: 0.9843\n",
      "Epoch 6/20\n",
      "260/260 [==============================] - 2s - loss: 0.0851 - acc: 0.9815 - val_loss: 0.1015 - val_acc: 0.9862\n",
      "Epoch 7/20\n",
      "260/260 [==============================] - 2s - loss: 0.1040 - acc: 0.9808 - val_loss: 0.2032 - val_acc: 0.9783\n",
      "Epoch 8/20\n",
      "260/260 [==============================] - 2s - loss: 0.0947 - acc: 0.9830 - val_loss: 0.0295 - val_acc: 0.9882\n",
      "Epoch 9/20\n",
      "260/260 [==============================] - 2s - loss: 0.0956 - acc: 0.9817 - val_loss: 0.1528 - val_acc: 0.9744\n",
      "Epoch 10/20\n",
      "260/260 [==============================] - 2s - loss: 0.0899 - acc: 0.9829 - val_loss: 0.2190 - val_acc: 0.9803\n",
      "Epoch 11/20\n",
      "260/260 [==============================] - 2s - loss: 0.1004 - acc: 0.9841 - val_loss: 0.1238 - val_acc: 0.9783\n",
      "Epoch 12/20\n",
      "260/260 [==============================] - 2s - loss: 0.1515 - acc: 0.9821 - val_loss: 0.1808 - val_acc: 0.9764\n",
      "Epoch 13/20\n",
      "260/260 [==============================] - 2s - loss: 0.1029 - acc: 0.9805 - val_loss: 0.1909 - val_acc: 0.9783\n",
      "Epoch 14/20\n",
      "260/260 [==============================] - 2s - loss: 0.1692 - acc: 0.9796 - val_loss: 0.1043 - val_acc: 0.9824\n",
      "Epoch 15/20\n",
      "260/260 [==============================] - 2s - loss: 0.1249 - acc: 0.9812 - val_loss: 0.1365 - val_acc: 0.9783\n",
      "Epoch 16/20\n",
      "260/260 [==============================] - 2s - loss: 0.1198 - acc: 0.9817 - val_loss: 0.0676 - val_acc: 0.9882\n",
      "Epoch 17/20\n",
      "260/260 [==============================] - 2s - loss: 0.1650 - acc: 0.9849 - val_loss: 0.1130 - val_acc: 0.9862\n",
      "Epoch 18/20\n",
      "260/260 [==============================] - 2s - loss: 0.0985 - acc: 0.9838 - val_loss: 0.0990 - val_acc: 0.9843\n",
      "Epoch 19/20\n",
      "260/260 [==============================] - 2s - loss: 0.0976 - acc: 0.9850 - val_loss: 0.1536 - val_acc: 0.9783\n",
      "Epoch 20/20\n",
      "260/260 [==============================] - 2s - loss: 0.0911 - acc: 0.9833 - val_loss: 0.1490 - val_acc: 0.9862\n"
     ]
    }
   ],
   "source": [
    "classifier_train(20)"
   ]
  },
  {
   "cell_type": "code",
   "execution_count": null,
   "metadata": {},
   "outputs": [],
   "source": []
  }
 ],
 "metadata": {
  "kernelspec": {
   "display_name": "Python 2",
   "language": "python",
   "name": "python2"
  },
  "language_info": {
   "codemirror_mode": {
    "name": "ipython",
    "version": 2
   },
   "file_extension": ".py",
   "mimetype": "text/x-python",
   "name": "python",
   "nbconvert_exporter": "python",
   "pygments_lexer": "ipython2",
   "version": "2.7.12"
  }
 },
 "nbformat": 4,
 "nbformat_minor": 2
}
