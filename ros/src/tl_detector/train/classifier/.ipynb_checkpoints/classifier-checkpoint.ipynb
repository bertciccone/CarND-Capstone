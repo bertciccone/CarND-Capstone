{
 "cells": [
  {
   "cell_type": "code",
   "execution_count": 1,
   "metadata": {},
   "outputs": [
    {
     "name": "stderr",
     "output_type": "stream",
     "text": [
      "Using TensorFlow backend.\n"
     ]
    }
   ],
   "source": [
    "import os\n",
    "import cv2\n",
    "import numpy as np\n",
    "\n",
    "import skimage\n",
    "import skimage.io\n",
    "import skimage.transform\n",
    "\n",
    "from sklearn.model_selection import StratifiedShuffleSplit\n",
    "import sklearn.preprocessing\n",
    "from sklearn.utils import class_weight\n",
    "\n",
    "from keras.preprocessing.image import ImageDataGenerator\n",
    "from keras.models import Sequential\n",
    "from keras.models import load_model\n",
    "from keras.layers import Conv2D, MaxPooling2D\n",
    "from keras.layers import Activation, Dropout, Flatten, Dense\n",
    "from keras.callbacks import EarlyStopping\n",
    "from keras import backend as K\n"
   ]
  },
  {
   "cell_type": "code",
   "execution_count": 2,
   "metadata": {},
   "outputs": [],
   "source": [
    "IMG_WIDTH=32\n",
    "IMG_HEIGHT=64\n",
    "NUM_CLASSES=4\n",
    "CLASSES=['red', 'yellow', 'green', 'unknown']\n",
    "\n",
    "ENV='lot'   # sim or lot"
   ]
  },
  {
   "cell_type": "code",
   "execution_count": 3,
   "metadata": {},
   "outputs": [],
   "source": [
    "def load_image(path):\n",
    "    # load image\n",
    "    img = skimage.io.imread(path)\n",
    "    \n",
    "    # convert to floating point\n",
    "    img = img / 255.0\n",
    "       \n",
    "    return img\n"
   ]
  },
  {
   "cell_type": "code",
   "execution_count": 4,
   "metadata": {},
   "outputs": [],
   "source": [
    "class DataSet:\n",
    "    def __init__(self):\n",
    "        self.labels = []\n",
    "        self.labels_oh = None\n",
    "        self.image_paths = []\n",
    "        self.num_samples = 0\n",
    "        self.images = None\n",
    "\n",
    "        self.indices_train = None\n",
    "        self.indices_val = None\n",
    "        \n",
    "        self.generator_train = None\n",
    "        self.generator_valid = None\n",
    "        self.numperclass = {'red':0, 'yellow':0, 'green':0, 'unknown':0}\n",
    "    def load_data(self):\n",
    "        # load data\n",
    "        for label, name in enumerate(CLASSES):\n",
    "            for root, dirs, files in os.walk(os.path.join('..', 'data_lights', ENV, name)):\n",
    "                for filename in files:\n",
    "                    self.labels.append(label)\n",
    "                    self.image_paths.append(os.path.join(root,filename))\n",
    "                    self.numperclass[name] = self.numperclass[name] + 1\n",
    "                    \n",
    "        self.images = np.array([load_image(path) for path in self.image_paths])\n",
    "\n",
    "        # process data\n",
    "        self.labels = np.array(self.labels)\n",
    "        self.images = np.array(self.images)\n",
    "\n",
    "        lb = sklearn.preprocessing.LabelBinarizer()\n",
    "        self.labels_oh = lb.fit_transform(self.labels)\n",
    "        \n",
    "        self.num_samples = self.labels.shape[0]\n",
    "\n",
    "        # split dataset\n",
    "        ss = StratifiedShuffleSplit(n_splits=1, test_size=0.2)\n",
    "        splitter = ss.split(np.zeros(self.num_samples), self.labels_oh)\n",
    "        self.indices_train, self.indices_val = next(splitter)\n",
    "        \n",
    "    def create_generators(self, batch_size=16):\n",
    "        # define data-generator for training set (zoom and flip the images)\n",
    "        train_datagen = ImageDataGenerator(\n",
    "            shear_range=0.0,\n",
    "            zoom_range=0.2,\n",
    "            rotation_range=0,\n",
    "            horizontal_flip=True)\n",
    "\n",
    "        self.generator_train = train_datagen.flow(\n",
    "            self.images[self.indices_train],\n",
    "            self.labels_oh[self.indices_train],\n",
    "            batch_size=batch_size)\n",
    "\n",
    "        # define data-generator for testing/validation (no modification)\n",
    "        test_datagen = ImageDataGenerator()\n",
    "        self.generator_valid = test_datagen.flow(\n",
    "            self.images[self.indices_val],\n",
    "            self.labels_oh[self.indices_val],\n",
    "            batch_size=batch_size)\n",
    "     \n",
    "dataset = DataSet()"
   ]
  },
  {
   "cell_type": "code",
   "execution_count": 5,
   "metadata": {},
   "outputs": [],
   "source": [
    "def create_model():\n",
    "    if K.image_data_format() == 'channels_first':\n",
    "        input_shape = (3, IMG_HEIGHT, IMG_WIDTH)\n",
    "    else:\n",
    "        input_shape = (IMG_HEIGHT, IMG_WIDTH, 3)\n",
    "        \n",
    "    model = Sequential()\n",
    "    \n",
    "    model.add(Conv2D(3, (1, 1), input_shape=input_shape))\n",
    "    \n",
    "    model.add(Conv2D(16, (1, 1), input_shape=input_shape))\n",
    "    model.add(Activation('relu'))\n",
    "    \n",
    "    model.add(Conv2D(32, (3, 3)))\n",
    "    model.add(Activation('relu'))\n",
    "    model.add(MaxPooling2D(pool_size=(2, 2)))\n",
    "\n",
    "    model.add(Conv2D(32, (3, 3)))\n",
    "    model.add(Activation('relu'))\n",
    "    model.add(MaxPooling2D(pool_size=(2, 2)))\n",
    "\n",
    "    model.add(Conv2D(64, (3, 3)))\n",
    "    model.add(Activation('relu'))\n",
    "    model.add(MaxPooling2D(pool_size=(2, 2)))\n",
    "\n",
    "    model.add(Flatten())\n",
    "    model.add(Dense(768, activation='relu'))\n",
    "    model.add(Dropout(0.5))\n",
    "\n",
    "    model.add(Dense(768, activation='relu'))\n",
    "    model.add(Dropout(0.5))\n",
    "\n",
    "    model.add(Dense(512, activation='relu'))\n",
    "    model.add(Dropout(0.5))\n",
    "    \n",
    "    model.add(Dense(256, activation='relu'))\n",
    "    model.add(Dropout(0.5))\n",
    "    \n",
    "    model.add(Dense(64, activation='relu'))\n",
    "    model.add(Dense(NUM_CLASSES, activation='softmax'))           \n",
    "    \n",
    "    model.compile(loss='categorical_crossentropy',\n",
    "                           optimizer='rmsprop',\n",
    "                           metrics=['accuracy'])\n",
    "    \n",
    "    model.summary()\n",
    "    \n",
    "    return model\n"
   ]
  },
  {
   "cell_type": "code",
   "execution_count": 6,
   "metadata": {},
   "outputs": [],
   "source": [
    "def checkpoint_file():\n",
    "    return \"classifier_{}.h5\".format(ENV)"
   ]
  },
  {
   "cell_type": "code",
   "execution_count": 7,
   "metadata": {
    "scrolled": false
   },
   "outputs": [
    {
     "name": "stdout",
     "output_type": "stream",
     "text": [
      "_________________________________________________________________\n",
      "Layer (type)                 Output Shape              Param #   \n",
      "=================================================================\n",
      "conv2d_1 (Conv2D)            (None, 64, 32, 3)         12        \n",
      "_________________________________________________________________\n",
      "conv2d_2 (Conv2D)            (None, 64, 32, 16)        64        \n",
      "_________________________________________________________________\n",
      "activation_1 (Activation)    (None, 64, 32, 16)        0         \n",
      "_________________________________________________________________\n",
      "conv2d_3 (Conv2D)            (None, 62, 30, 32)        4640      \n",
      "_________________________________________________________________\n",
      "activation_2 (Activation)    (None, 62, 30, 32)        0         \n",
      "_________________________________________________________________\n",
      "max_pooling2d_1 (MaxPooling2 (None, 31, 15, 32)        0         \n",
      "_________________________________________________________________\n",
      "conv2d_4 (Conv2D)            (None, 29, 13, 32)        9248      \n",
      "_________________________________________________________________\n",
      "activation_3 (Activation)    (None, 29, 13, 32)        0         \n",
      "_________________________________________________________________\n",
      "max_pooling2d_2 (MaxPooling2 (None, 14, 6, 32)         0         \n",
      "_________________________________________________________________\n",
      "conv2d_5 (Conv2D)            (None, 12, 4, 64)         18496     \n",
      "_________________________________________________________________\n",
      "activation_4 (Activation)    (None, 12, 4, 64)         0         \n",
      "_________________________________________________________________\n",
      "max_pooling2d_3 (MaxPooling2 (None, 6, 2, 64)          0         \n",
      "_________________________________________________________________\n",
      "flatten_1 (Flatten)          (None, 768)               0         \n",
      "_________________________________________________________________\n",
      "dense_1 (Dense)              (None, 768)               590592    \n",
      "_________________________________________________________________\n",
      "dropout_1 (Dropout)          (None, 768)               0         \n",
      "_________________________________________________________________\n",
      "dense_2 (Dense)              (None, 768)               590592    \n",
      "_________________________________________________________________\n",
      "dropout_2 (Dropout)          (None, 768)               0         \n",
      "_________________________________________________________________\n",
      "dense_3 (Dense)              (None, 512)               393728    \n",
      "_________________________________________________________________\n",
      "dropout_3 (Dropout)          (None, 512)               0         \n",
      "_________________________________________________________________\n",
      "dense_4 (Dense)              (None, 256)               131328    \n",
      "_________________________________________________________________\n",
      "dropout_4 (Dropout)          (None, 256)               0         \n",
      "_________________________________________________________________\n",
      "dense_5 (Dense)              (None, 64)                16448     \n",
      "_________________________________________________________________\n",
      "dense_6 (Dense)              (None, 4)                 260       \n",
      "=================================================================\n",
      "Total params: 1,755,408\n",
      "Trainable params: 1,755,408\n",
      "Non-trainable params: 0\n",
      "_________________________________________________________________\n"
     ]
    }
   ],
   "source": [
    "model = create_model()"
   ]
  },
  {
   "cell_type": "code",
   "execution_count": 8,
   "metadata": {},
   "outputs": [],
   "source": [
    "dataset.load_data()"
   ]
  },
  {
   "cell_type": "code",
   "execution_count": 9,
   "metadata": {},
   "outputs": [],
   "source": [
    "dataset.create_generators()"
   ]
  },
  {
   "cell_type": "code",
   "execution_count": 10,
   "metadata": {},
   "outputs": [
    {
     "name": "stdout",
     "output_type": "stream",
     "text": [
      "{'unknown': 93, 'green': 614, 'yellow': 327, 'red': 371}\n",
      "[ 0.9467655   1.07415902  0.5720684   3.77688172]\n"
     ]
    }
   ],
   "source": [
    "print(dataset.numperclass)\n",
    "\n",
    "class_weights = class_weight.compute_class_weight('balanced', np.unique(dataset.labels), dataset.labels)\n",
    "\n",
    "print(class_weights)"
   ]
  },
  {
   "cell_type": "code",
   "execution_count": 11,
   "metadata": {},
   "outputs": [],
   "source": [
    "def classifier_train(p_epochs, p_batch_size=16):     \n",
    "    # train the model\n",
    "    earlystop = EarlyStopping(monitor='val_acc', min_delta=0.0001, patience=5, \\\n",
    "                          verbose=1, mode='auto')\n",
    "    callbacks = [earlystop]\n",
    "    \n",
    "    model.fit_generator(\n",
    "        dataset.generator_train,\n",
    "        steps_per_epoch=(len(dataset.indices_train) // p_batch_size)*2,\n",
    "        epochs=p_epochs,\n",
    "        verbose=1,\n",
    "        validation_data=dataset.generator_valid,\n",
    "        validation_steps=len(dataset.indices_val) // p_batch_size, class_weight=class_weights, callbacks=callbacks)\n",
    "\n",
    "    model.save(checkpoint_file())"
   ]
  },
  {
   "cell_type": "code",
   "execution_count": 12,
   "metadata": {
    "scrolled": false
   },
   "outputs": [
    {
     "name": "stdout",
     "output_type": "stream",
     "text": [
      "Epoch 1/20\n",
      "140/140 [==============================] - 11s - loss: 0.8955 - acc: 0.5915 - val_loss: 0.5334 - val_acc: 0.8860\n",
      "Epoch 2/20\n",
      "140/140 [==============================] - 11s - loss: 0.5491 - acc: 0.8719 - val_loss: 0.1785 - val_acc: 0.9509\n",
      "Epoch 3/20\n",
      "140/140 [==============================] - 11s - loss: 0.4066 - acc: 0.9187 - val_loss: 0.2482 - val_acc: 0.9338\n",
      "Epoch 4/20\n",
      "140/140 [==============================] - 11s - loss: 0.4396 - acc: 0.9264 - val_loss: 0.1511 - val_acc: 0.9585\n",
      "Epoch 5/20\n",
      "140/140 [==============================] - 11s - loss: 0.3986 - acc: 0.9415 - val_loss: 1.2320 - val_acc: 0.7463\n",
      "Epoch 6/20\n",
      "140/140 [==============================] - 11s - loss: 0.3887 - acc: 0.9424 - val_loss: 0.1561 - val_acc: 0.9660\n",
      "Epoch 7/20\n",
      "140/140 [==============================] - 11s - loss: 0.4088 - acc: 0.9433 - val_loss: 0.2453 - val_acc: 0.9522\n",
      "Epoch 8/20\n",
      "140/140 [==============================] - 11s - loss: 0.7367 - acc: 0.9219 - val_loss: 0.2670 - val_acc: 0.9623\n",
      "Epoch 9/20\n",
      "140/140 [==============================] - 11s - loss: 0.5967 - acc: 0.9335 - val_loss: 0.1511 - val_acc: 0.9632\n",
      "Epoch 10/20\n",
      "140/140 [==============================] - 11s - loss: 0.9483 - acc: 0.9237 - val_loss: 0.7767 - val_acc: 0.9434\n",
      "Epoch 11/20\n",
      "140/140 [==============================] - 11s - loss: 1.4441 - acc: 0.9040 - val_loss: 0.5162 - val_acc: 0.9632\n",
      "Epoch 12/20\n",
      "140/140 [==============================] - 11s - loss: 1.1906 - acc: 0.9219 - val_loss: 1.7077 - val_acc: 0.8906\n",
      "Epoch 00011: early stopping\n"
     ]
    }
   ],
   "source": [
    "classifier_train(20)"
   ]
  },
  {
   "cell_type": "code",
   "execution_count": null,
   "metadata": {},
   "outputs": [],
   "source": []
  },
  {
   "cell_type": "code",
   "execution_count": null,
   "metadata": {},
   "outputs": [],
   "source": []
  }
 ],
 "metadata": {
  "kernelspec": {
   "display_name": "Python 2",
   "language": "python",
   "name": "python2"
  },
  "language_info": {
   "codemirror_mode": {
    "name": "ipython",
    "version": 2
   },
   "file_extension": ".py",
   "mimetype": "text/x-python",
   "name": "python",
   "nbconvert_exporter": "python",
   "pygments_lexer": "ipython2",
   "version": "2.7.12"
  }
 },
 "nbformat": 4,
 "nbformat_minor": 2
}
