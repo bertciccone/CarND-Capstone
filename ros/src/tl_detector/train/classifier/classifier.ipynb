{
 "cells": [
  {
   "cell_type": "code",
   "execution_count": 1,
   "metadata": {},
   "outputs": [
    {
     "name": "stderr",
     "output_type": "stream",
     "text": [
      "Using TensorFlow backend.\n"
     ]
    }
   ],
   "source": [
    "import os\n",
    "import cv2\n",
    "import numpy as np\n",
    "\n",
    "import skimage\n",
    "import skimage.io\n",
    "import skimage.transform\n",
    "\n",
    "from sklearn.model_selection import StratifiedShuffleSplit\n",
    "import sklearn.preprocessing\n",
    "from sklearn.utils import class_weight\n",
    "\n",
    "from keras.preprocessing.image import ImageDataGenerator\n",
    "from keras.models import Sequential\n",
    "from keras.models import load_model\n",
    "from keras.layers import Conv2D, MaxPooling2D\n",
    "from keras.layers import Activation, Dropout, Flatten, Dense\n",
    "from keras import backend as K\n"
   ]
  },
  {
   "cell_type": "code",
   "execution_count": 2,
   "metadata": {},
   "outputs": [],
   "source": [
    "IMG_WIDTH=32\n",
    "IMG_HEIGHT=64\n",
    "NUM_CLASSES=4\n",
    "CLASSES=['red', 'yellow', 'green', 'unknown']\n",
    "\n",
    "ENV='lot'   # sim or lot"
   ]
  },
  {
   "cell_type": "code",
   "execution_count": 3,
   "metadata": {},
   "outputs": [],
   "source": [
    "def load_image(path):\n",
    "    # load image\n",
    "    img = skimage.io.imread(path)\n",
    "    \n",
    "    # convert to floating point\n",
    "    img = img / 255.0\n",
    "       \n",
    "    return img\n"
   ]
  },
  {
   "cell_type": "code",
   "execution_count": 4,
   "metadata": {},
   "outputs": [],
   "source": [
    "class DataSet:\n",
    "    def __init__(self):\n",
    "        self.labels = []\n",
    "        self.labels_oh = None\n",
    "        self.image_paths = []\n",
    "        self.num_samples = 0\n",
    "        self.images = None\n",
    "\n",
    "        self.indices_train = None\n",
    "        self.indices_val = None\n",
    "        \n",
    "        self.generator_train = None\n",
    "        self.generator_valid = None\n",
    "        self.numperclass = {'red':0, 'yellow':0, 'green':0, 'unknown':0}\n",
    "    def load_data(self):\n",
    "        # load data\n",
    "        for label, name in enumerate(CLASSES):\n",
    "            for root, dirs, files in os.walk(os.path.join('..', 'data_lights', ENV, name)):\n",
    "                for filename in files:\n",
    "                    self.labels.append(label)\n",
    "                    self.image_paths.append(os.path.join(root,filename))\n",
    "                    self.numperclass[name] = self.numperclass[name] + 1\n",
    "                    \n",
    "        self.images = np.array([load_image(path) for path in self.image_paths])\n",
    "\n",
    "        # process data\n",
    "        self.labels = np.array(self.labels)\n",
    "        self.images = np.array(self.images)\n",
    "\n",
    "        lb = sklearn.preprocessing.LabelBinarizer()\n",
    "        self.labels_oh = lb.fit_transform(self.labels)\n",
    "        \n",
    "        self.num_samples = self.labels.shape[0]\n",
    "\n",
    "        # split dataset\n",
    "        ss = StratifiedShuffleSplit(n_splits=1, test_size=0.2)\n",
    "        splitter = ss.split(np.zeros(self.num_samples), self.labels_oh)\n",
    "        self.indices_train, self.indices_val = next(splitter)\n",
    "        \n",
    "    def create_generators(self, batch_size=16):\n",
    "        # define data-generator for training set (zoom and flip the images)\n",
    "        train_datagen = ImageDataGenerator(\n",
    "            shear_range=0.0,\n",
    "            zoom_range=0.2,\n",
    "            rotation_range=0,\n",
    "            horizontal_flip=True)\n",
    "\n",
    "        self.generator_train = train_datagen.flow(\n",
    "            self.images[self.indices_train],\n",
    "            self.labels_oh[self.indices_train],\n",
    "            batch_size=batch_size)\n",
    "\n",
    "        # define data-generator for testing/validation (no modification)\n",
    "        test_datagen = ImageDataGenerator()\n",
    "        self.generator_valid = test_datagen.flow(\n",
    "            self.images[self.indices_val],\n",
    "            self.labels_oh[self.indices_val],\n",
    "            batch_size=batch_size)\n",
    "     \n",
    "dataset = DataSet()"
   ]
  },
  {
   "cell_type": "code",
   "execution_count": 5,
   "metadata": {},
   "outputs": [],
   "source": [
    "def create_model():\n",
    "    if K.image_data_format() == 'channels_first':\n",
    "        input_shape = (3, IMG_HEIGHT, IMG_WIDTH)\n",
    "    else:\n",
    "        input_shape = (IMG_HEIGHT, IMG_WIDTH, 3)\n",
    "        \n",
    "    model = Sequential()\n",
    "    model.add(Conv2D(16, (1, 1), input_shape=input_shape))\n",
    "    model.add(Activation('relu'))\n",
    "    \n",
    "    model.add(Conv2D(32, (3, 3)))\n",
    "    model.add(Activation('relu'))\n",
    "    model.add(MaxPooling2D(pool_size=(2, 2)))\n",
    "\n",
    "    model.add(Conv2D(32, (3, 3)))\n",
    "    model.add(Activation('relu'))\n",
    "    model.add(MaxPooling2D(pool_size=(2, 2)))\n",
    "\n",
    "    model.add(Conv2D(64, (3, 3)))\n",
    "    model.add(Activation('relu'))\n",
    "    model.add(MaxPooling2D(pool_size=(2, 2)))\n",
    "\n",
    "    model.add(Flatten())\n",
    "    model.add(Dense(1024, activation='relu'))\n",
    "    model.add(Dropout(0.5))\n",
    "\n",
    "    model.add(Dense(1024, activation='relu'))\n",
    "    model.add(Dropout(0.5))\n",
    "\n",
    "    model.add(Dense(64, activation='relu'))\n",
    "    model.add(Dense(NUM_CLASSES, activation='softmax'))           \n",
    "    \n",
    "    model.compile(loss='categorical_crossentropy',\n",
    "                           optimizer='rmsprop',\n",
    "                           metrics=['accuracy'])\n",
    "    \n",
    "    return model\n"
   ]
  },
  {
   "cell_type": "code",
   "execution_count": 6,
   "metadata": {},
   "outputs": [],
   "source": [
    "def checkpoint_file():\n",
    "    return \"classifier_{}.h5\".format(ENV)"
   ]
  },
  {
   "cell_type": "code",
   "execution_count": 7,
   "metadata": {
    "scrolled": false
   },
   "outputs": [],
   "source": [
    "model = create_model()"
   ]
  },
  {
   "cell_type": "code",
   "execution_count": 8,
   "metadata": {},
   "outputs": [],
   "source": [
    "dataset.load_data()"
   ]
  },
  {
   "cell_type": "code",
   "execution_count": 9,
   "metadata": {},
   "outputs": [],
   "source": [
    "dataset.create_generators()"
   ]
  },
  {
   "cell_type": "code",
   "execution_count": 10,
   "metadata": {},
   "outputs": [
    {
     "name": "stdout",
     "output_type": "stream",
     "text": [
      "{'unknown': 143, 'green': 617, 'yellow': 229, 'red': 244}\n",
      "[ 1.26331967  1.34606987  0.49959481  2.15559441]\n"
     ]
    }
   ],
   "source": [
    "print(dataset.numperclass)\n",
    "\n",
    "class_weights = class_weight.compute_class_weight('balanced', np.unique(dataset.labels), dataset.labels)\n",
    "\n",
    "print(class_weights)"
   ]
  },
  {
   "cell_type": "code",
   "execution_count": 11,
   "metadata": {},
   "outputs": [],
   "source": [
    "def classifier_train(p_epochs, p_batch_size=16):     \n",
    "    # train the model\n",
    "    \n",
    "    model.fit_generator(\n",
    "        dataset.generator_train,\n",
    "        steps_per_epoch=(len(dataset.indices_train) // p_batch_size)*2,\n",
    "        epochs=p_epochs,\n",
    "        verbose=1,\n",
    "        validation_data=dataset.generator_valid,\n",
    "        validation_steps=len(dataset.indices_val) // p_batch_size, class_weight=class_weights)\n",
    "\n",
    "    model.save(checkpoint_file())"
   ]
  },
  {
   "cell_type": "code",
   "execution_count": 12,
   "metadata": {
    "scrolled": false
   },
   "outputs": [
    {
     "name": "stdout",
     "output_type": "stream",
     "text": [
      "Epoch 1/20\n",
      "122/122 [==============================] - 9s - loss: 0.7183 - acc: 0.7338 - val_loss: 0.2097 - val_acc: 0.9583\n",
      "Epoch 2/20\n",
      "122/122 [==============================] - 9s - loss: 0.3632 - acc: 0.8895 - val_loss: 0.1365 - val_acc: 0.9610\n",
      "Epoch 3/20\n",
      "122/122 [==============================] - 9s - loss: 0.3622 - acc: 0.9075 - val_loss: 0.2286 - val_acc: 0.9524\n",
      "Epoch 4/20\n",
      "122/122 [==============================] - 10s - loss: 0.3269 - acc: 0.9108 - val_loss: 0.1188 - val_acc: 0.9697\n",
      "Epoch 5/20\n",
      "122/122 [==============================] - 10s - loss: 0.3048 - acc: 0.9180 - val_loss: 0.0988 - val_acc: 0.9827\n",
      "Epoch 6/20\n",
      "122/122 [==============================] - 10s - loss: 0.2986 - acc: 0.9191 - val_loss: 0.7077 - val_acc: 0.7013\n",
      "Epoch 7/20\n",
      "122/122 [==============================] - 9s - loss: 0.4958 - acc: 0.8945 - val_loss: 0.4836 - val_acc: 0.8874\n",
      "Epoch 8/20\n",
      "122/122 [==============================] - 9s - loss: 0.5640 - acc: 0.8875 - val_loss: 0.1585 - val_acc: 0.9740\n",
      "Epoch 9/20\n",
      "122/122 [==============================] - 10s - loss: 0.4371 - acc: 0.8862 - val_loss: 0.4807 - val_acc: 0.9048\n",
      "Epoch 10/20\n",
      "122/122 [==============================] - 9s - loss: 0.9515 - acc: 0.8543 - val_loss: 0.8593 - val_acc: 0.8095\n",
      "Epoch 11/20\n",
      "122/122 [==============================] - 9s - loss: 0.6342 - acc: 0.8783 - val_loss: 0.2372 - val_acc: 0.9437\n",
      "Epoch 12/20\n",
      "122/122 [==============================] - 10s - loss: 0.3922 - acc: 0.9246 - val_loss: 0.0848 - val_acc: 0.9827\n",
      "Epoch 13/20\n",
      "122/122 [==============================] - 10s - loss: 0.6307 - acc: 0.9009 - val_loss: 0.1718 - val_acc: 0.9307\n",
      "Epoch 14/20\n",
      "122/122 [==============================] - 10s - loss: 0.4720 - acc: 0.9172 - val_loss: 0.1736 - val_acc: 0.9610\n",
      "Epoch 15/20\n",
      "122/122 [==============================] - 10s - loss: 0.7643 - acc: 0.8854 - val_loss: 0.3286 - val_acc: 0.9394\n",
      "Epoch 16/20\n",
      "122/122 [==============================] - 10s - loss: 0.7032 - acc: 0.8903 - val_loss: 0.4527 - val_acc: 0.9177\n",
      "Epoch 17/20\n",
      "122/122 [==============================] - 9s - loss: 1.1091 - acc: 0.7889 - val_loss: 0.3866 - val_acc: 0.8833\n",
      "Epoch 18/20\n",
      "122/122 [==============================] - 9s - loss: 1.8593 - acc: 0.7916 - val_loss: 1.0085 - val_acc: 0.7403\n",
      "Epoch 19/20\n",
      "122/122 [==============================] - 9s - loss: 1.4381 - acc: 0.7947 - val_loss: 0.3202 - val_acc: 0.9697\n",
      "Epoch 20/20\n",
      "122/122 [==============================] - 9s - loss: 1.1721 - acc: 0.8818 - val_loss: 0.5731 - val_acc: 0.9481\n"
     ]
    }
   ],
   "source": [
    "classifier_train(20)"
   ]
  },
  {
   "cell_type": "code",
   "execution_count": null,
   "metadata": {},
   "outputs": [],
   "source": []
  },
  {
   "cell_type": "code",
   "execution_count": null,
   "metadata": {},
   "outputs": [],
   "source": []
  }
 ],
 "metadata": {
  "kernelspec": {
   "display_name": "Python 2",
   "language": "python",
   "name": "python2"
  },
  "language_info": {
   "codemirror_mode": {
    "name": "ipython",
    "version": 2
   },
   "file_extension": ".py",
   "mimetype": "text/x-python",
   "name": "python",
   "nbconvert_exporter": "python",
   "pygments_lexer": "ipython2",
   "version": "2.7.12"
  }
 },
 "nbformat": 4,
 "nbformat_minor": 2
}
