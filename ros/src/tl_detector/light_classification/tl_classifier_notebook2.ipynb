{
 "cells": [
  {
   "cell_type": "code",
   "execution_count": 42,
   "metadata": {},
   "outputs": [],
   "source": [
    "import pickle\n",
    "import numpy as np\n",
    "import cv2\n",
    "import time\n",
    "from sklearn.model_selection import train_test_split\n",
    "from sklearn.preprocessing import LabelBinarizer\n",
    "from keras.models import load_model\n",
    "import h5py\n",
    "import keras\n",
    "from keras.models import Model, Sequential\n",
    "from keras.layers.core import Dense, Activation, Flatten\n",
    "from keras.models import Model, Sequential\n",
    "from keras.layers import Input, Activation, Concatenate, Dense\n",
    "from keras.layers import Flatten, Dropout, Reshape\n",
    "from keras.layers import Convolution2D, MaxPooling2D, GlobalAveragePooling2D\n",
    "from keras.layers import AveragePooling2D\n",
    "\n",
    "from keras.optimizers import SGD,RMSprop,adam\n",
    "from keras.utils import np_utils\n",
    "\n",
    "import matplotlib.pyplot as plt\n",
    "import matplotlib\n",
    "import os\n",
    "import tensorflow as tf\n",
    "from PIL import Image\n",
    "\n",
    "from sklearn.utils import shuffle\n",
    "from sklearn.cross_validation import train_test_split\n",
    "\n",
    "import skimage\n",
    "import skimage.io as io"
   ]
  },
  {
   "cell_type": "code",
   "execution_count": 43,
   "metadata": {},
   "outputs": [],
   "source": [
    "def network():\n",
    "    model = Sequential()\n",
    "    model.add(Convolution2D(32, 3, 3, input_shape=(32, 32, 3)))\n",
    "    model.add(MaxPooling2D((2, 2)))\n",
    "    model.add(Activation('relu'))\n",
    "    model.add(Flatten())\n",
    "    model.add(Dense(4))\n",
    "    model.add(Activation('softmax'))\n",
    "\n",
    "    return model\n"
   ]
  },
  {
   "cell_type": "code",
   "execution_count": 44,
   "metadata": {},
   "outputs": [],
   "source": [
    "image_shape = (32, 32, 3)\n",
    "nb_classes = 3\n",
    "def network2():\n",
    "  model = Sequential()\n",
    "  model.add(Convolution2D(32, 3, 3, border_mode='same', input_shape=image_shape))\n",
    "  model.add(Activation('relu'))\n",
    "  model.add(Convolution2D(32, 3, 3))\n",
    "  model.add(Activation('relu'))\n",
    "  model.add(MaxPooling2D(pool_size=(2, 2)))\n",
    "  model.add(Dropout(0.25))\n",
    "\n",
    "  model.add(Convolution2D(64, 3, 3, border_mode='same'))\n",
    "  model.add(Activation('relu'))\n",
    "  model.add(Convolution2D(64, 3, 3))\n",
    "  model.add(Activation('relu'))\n",
    "  model.add(MaxPooling2D(pool_size=(2, 2)))\n",
    "  model.add(Dropout(0.25))\n",
    "\n",
    "  model.add(Flatten())\n",
    "  model.add(Dense(512))\n",
    "  model.add(Activation('relu'))\n",
    "  model.add(Dropout(0.5))\n",
    "  model.add(Dense(nb_classes))\n",
    "  model.add(Activation('softmax'))\n",
    "\n",
    "\n",
    "  return model"
   ]
  },
  {
   "cell_type": "code",
   "execution_count": 45,
   "metadata": {},
   "outputs": [],
   "source": [
    "def train(file_path, model):\n",
    "\n",
    "    x_,y_ = pickle.load( open(file_path, \"rb\" ) )\n",
    "    random_state = 130\n",
    "    X_train, x_validation, y_train, y_validation = train_test_split(x_, y_, train_size = 0.80,\n",
    "                                                                    test_size = 0.2,\n",
    "                                                                    random_state = random_state)\n",
    "    # preprocess data\n",
    "    X_normalized = np.array(X_train / 255.0 - 0.5 )\n",
    "    label_binarizer = LabelBinarizer()\n",
    "    y_one_hot = label_binarizer.fit_transform(y_train)\n",
    "\n",
    "    model.summary()\n",
    "    model.compile('adam', 'categorical_crossentropy', ['accuracy'])\n",
    "    history = model.fit(X_normalized, y_one_hot, nb_epoch=20, validation_split=0.2)\n",
    "\n",
    "    model.save('model.h5')\n",
    "    return history\n"
   ]
  },
  {
   "cell_type": "code",
   "execution_count": 46,
   "metadata": {},
   "outputs": [
    {
     "name": "stderr",
     "output_type": "stream",
     "text": [
      "/root/.local/lib/python3.5/site-packages/ipykernel_launcher.py:5: UserWarning: Update your `Conv2D` call to the Keras 2 API: `Conv2D(32, (3, 3), input_shape=(32, 32, 3..., padding=\"same\")`\n",
      "  \"\"\"\n",
      "/root/.local/lib/python3.5/site-packages/ipykernel_launcher.py:7: UserWarning: Update your `Conv2D` call to the Keras 2 API: `Conv2D(32, (3, 3))`\n",
      "  import sys\n",
      "/root/.local/lib/python3.5/site-packages/ipykernel_launcher.py:12: UserWarning: Update your `Conv2D` call to the Keras 2 API: `Conv2D(64, (3, 3), padding=\"same\")`\n",
      "  if sys.path[0] == '':\n",
      "/root/.local/lib/python3.5/site-packages/ipykernel_launcher.py:14: UserWarning: Update your `Conv2D` call to the Keras 2 API: `Conv2D(64, (3, 3))`\n",
      "  \n"
     ]
    },
    {
     "name": "stdout",
     "output_type": "stream",
     "text": [
      "_________________________________________________________________\n",
      "Layer (type)                 Output Shape              Param #   \n",
      "=================================================================\n",
      "conv2d_9 (Conv2D)            (None, 32, 32, 32)        896       \n",
      "_________________________________________________________________\n",
      "activation_13 (Activation)   (None, 32, 32, 32)        0         \n",
      "_________________________________________________________________\n",
      "conv2d_10 (Conv2D)           (None, 30, 30, 32)        9248      \n",
      "_________________________________________________________________\n",
      "activation_14 (Activation)   (None, 30, 30, 32)        0         \n",
      "_________________________________________________________________\n",
      "max_pooling2d_5 (MaxPooling2 (None, 15, 15, 32)        0         \n",
      "_________________________________________________________________\n",
      "dropout_7 (Dropout)          (None, 15, 15, 32)        0         \n",
      "_________________________________________________________________\n",
      "conv2d_11 (Conv2D)           (None, 15, 15, 64)        18496     \n",
      "_________________________________________________________________\n",
      "activation_15 (Activation)   (None, 15, 15, 64)        0         \n",
      "_________________________________________________________________\n",
      "conv2d_12 (Conv2D)           (None, 13, 13, 64)        36928     \n",
      "_________________________________________________________________\n",
      "activation_16 (Activation)   (None, 13, 13, 64)        0         \n",
      "_________________________________________________________________\n",
      "max_pooling2d_6 (MaxPooling2 (None, 6, 6, 64)          0         \n",
      "_________________________________________________________________\n",
      "dropout_8 (Dropout)          (None, 6, 6, 64)          0         \n",
      "_________________________________________________________________\n",
      "flatten_3 (Flatten)          (None, 2304)              0         \n",
      "_________________________________________________________________\n",
      "dense_5 (Dense)              (None, 512)               1180160   \n",
      "_________________________________________________________________\n",
      "activation_17 (Activation)   (None, 512)               0         \n",
      "_________________________________________________________________\n",
      "dropout_9 (Dropout)          (None, 512)               0         \n",
      "_________________________________________________________________\n",
      "dense_6 (Dense)              (None, 3)                 1539      \n",
      "_________________________________________________________________\n",
      "activation_18 (Activation)   (None, 3)                 0         \n",
      "=================================================================\n",
      "Total params: 1,247,267\n",
      "Trainable params: 1,247,267\n",
      "Non-trainable params: 0\n",
      "_________________________________________________________________\n"
     ]
    }
   ],
   "source": [
    "model = network2()\n",
    "model.summary()\n",
    "\n"
   ]
  },
  {
   "cell_type": "code",
   "execution_count": 47,
   "metadata": {},
   "outputs": [],
   "source": [
    "from keras.models import Sequential\n",
    "from keras.layers.core import Dense, Dropout, Activation, Flatten\n",
    "from keras.layers.convolutional import Convolution2D, MaxPooling2D\n",
    "from keras.optimizers import SGD,RMSprop,adam\n",
    "from keras.utils import np_utils\n",
    "\n",
    "import numpy as np\n",
    "import matplotlib.pyplot as plt\n",
    "import matplotlib\n",
    "import os\n",
    "import tensorflow as tf\n",
    "from PIL import Image\n",
    "from numpy import *\n",
    "# SKLEARN\n",
    "from sklearn.utils import shuffle\n",
    "from sklearn.cross_validation import train_test_split\n",
    "\n",
    "import skimage\n",
    "import skimage.io as io"
   ]
  },
  {
   "cell_type": "code",
   "execution_count": 48,
   "metadata": {},
   "outputs": [],
   "source": [
    "red_dir = '/root/TRAFFIC/TRAFFIC/DATA/red'\n",
    "yellow_dir = '/root/TRAFFIC/TRAFFIC/DATA/yellow'\n",
    "green_dir = '/root/TRAFFIC/TRAFFIC/DATA/green'"
   ]
  },
  {
   "cell_type": "code",
   "execution_count": 49,
   "metadata": {},
   "outputs": [
    {
     "name": "stdout",
     "output_type": "stream",
     "text": [
      "red images =  522\n",
      "yellow images =  140\n",
      "green images =  253\n"
     ]
    }
   ],
   "source": [
    "\n",
    "red_listing = os.listdir(red_dir) \n",
    "num_red_images = size(red_listing)\n",
    "yellow_listing = os.listdir(yellow_dir) \n",
    "num_yellow_images = size(yellow_listing)\n",
    "green_listing = os.listdir(green_dir) \n",
    "num_green_images = size(green_listing)\n",
    "\n",
    "print ('red images = ', num_red_images)\n",
    "print ('yellow images = ', num_yellow_images)\n",
    "print ('green images = ', num_green_images)"
   ]
  },
  {
   "cell_type": "code",
   "execution_count": 50,
   "metadata": {},
   "outputs": [
    {
     "name": "stdout",
     "output_type": "stream",
     "text": [
      "red images =  1044\n",
      "yellow images =  140\n",
      "green images =  253\n"
     ]
    }
   ],
   "source": [
    "red_resized_dir = '/root/TRAFFIC/TRAFFIC/DATA/red_resized'\n",
    "yellow_resized_dir = '/root/TRAFFIC/TRAFFIC/DATA/yellow_resized'\n",
    "green_resized_dir = '/root/TRAFFIC/TRAFFIC/DATA/green_resized'\n",
    "\n",
    "red_resized_listing = os.listdir(red_resized_dir) \n",
    "num_red_images = size(red_resized_listing)\n",
    "yellow_resized_listing = os.listdir(yellow_resized_dir) \n",
    "num_yellow_images = size(yellow_resized_listing)\n",
    "green_resized_listing = os.listdir(green_resized_dir) \n",
    "num_green_images = size(green_resized_listing)\n",
    "\n",
    "print ('red images = ', num_red_images)\n",
    "print ('yellow images = ', num_yellow_images)\n",
    "print ('green images = ', num_green_images)"
   ]
  },
  {
   "cell_type": "code",
   "execution_count": 51,
   "metadata": {},
   "outputs": [
    {
     "name": "stdout",
     "output_type": "stream",
     "text": [
      "m =  600\n",
      "n =  800\n"
     ]
    },
    {
     "data": {
      "image/png": "[encoded data removed]",
      "text/plain": [
       "<Figure size 432x288 with 1 Axes>"
      ]
     },
     "metadata": {},
     "output_type": "display_data"
    }
   ],
   "source": [
    "file = 'left8803.jpg'\n",
    "im = array(Image.open(red_dir + '/' + file))   \n",
    "m,n = im.shape[0:2] \n",
    "\n",
    "img=im\n",
    "im1 = im\n",
    "#im_resized = im1.resize(32,32)\n",
    "plt.imshow(img)\n",
    "\n",
    "#plt.imshow(img.resize(32,32))\n",
    "\n",
    "print ('m = ', m)\n",
    "print ('n = ', n)"
   ]
  },
  {
   "cell_type": "code",
   "execution_count": 52,
   "metadata": {},
   "outputs": [],
   "source": [
    "red_resized_dir = '/root/TRAFFIC/TRAFFIC/DATA/red_resized'\n",
    "yellow_resized_dir = '/root/TRAFFIC/TRAFFIC/DATA/yellow_resized'\n",
    "green_resized_dir = '/root/TRAFFIC/TRAFFIC/DATA/green_resized'"
   ]
  },
  {
   "cell_type": "code",
   "execution_count": 53,
   "metadata": {},
   "outputs": [],
   "source": [
    "img_rows = 32\n",
    "img_cols = 32\n",
    "for file in red_listing:\n",
    "    img = Image.open(red_dir+'/'+file)\n",
    "    img_resized = img.resize((img_rows,img_cols))\n",
    "    img_resized.save(red_resized_dir+'/'+file,\"JPEG\")"
   ]
  },
  {
   "cell_type": "code",
   "execution_count": 54,
   "metadata": {},
   "outputs": [],
   "source": [
    "for file in yellow_listing:\n",
    "    img = Image.open(yellow_dir+'/'+file)\n",
    "    img_resized = img.resize((img_rows,img_cols))\n",
    "    img_resized.save(yellow_resized_dir+'/'+file,\"JPEG\")"
   ]
  },
  {
   "cell_type": "code",
   "execution_count": 55,
   "metadata": {},
   "outputs": [],
   "source": [
    "for file in green_listing:\n",
    "    img = Image.open(green_dir+'/'+file)\n",
    "    img_resized = img.resize((img_rows,img_cols))\n",
    "    img_resized.save(green_resized_dir+'/'+file,\"JPEG\")"
   ]
  },
  {
   "cell_type": "code",
   "execution_count": 56,
   "metadata": {},
   "outputs": [],
   "source": [
    "red_resized_path = red_resized_dir+'/'\n",
    "yellow_resized_path = yellow_resized_dir+'/'\n",
    "green_resized_path = green_resized_dir+'/'\n",
    "\n",
    "x_train = []\n",
    "all_images = []\n",
    "for image_path in os.listdir(red_resized_path):\n",
    "  img = io.imread(red_resized_path+image_path, as_grey=False)\n",
    "  all_images.append(img)\n",
    "    \n",
    "for image_path in os.listdir(yellow_resized_path):\n",
    "  img = io.imread(yellow_resized_path+image_path, as_grey=False)\n",
    "  all_images.append(img) \n",
    "   \n",
    "for image_path in os.listdir(green_resized_path):\n",
    "  img = io.imread(green_resized_path+image_path, as_grey=False)\n",
    "  all_images.append(img)\n",
    "    \n",
    "img_matrix = np.array(all_images)"
   ]
  },
  {
   "cell_type": "code",
   "execution_count": 57,
   "metadata": {},
   "outputs": [
    {
     "name": "stdout",
     "output_type": "stream",
     "text": [
      "red images =  1044\n",
      "yellow images =  140\n",
      "green images =  253\n"
     ]
    }
   ],
   "source": [
    "red_resized_dir = '/root/TRAFFIC/TRAFFIC/DATA/red_resized'\n",
    "yellow_resized_dir = '/root/TRAFFIC/TRAFFIC/DATA/yellow_resized'\n",
    "green_resized_dir = '/root/TRAFFIC/TRAFFIC/DATA/green_resized'\n",
    "\n",
    "red_resized_listing = os.listdir(red_resized_dir) \n",
    "num_red_images = size(red_resized_listing)\n",
    "yellow_resized_listing = os.listdir(yellow_resized_dir) \n",
    "num_yellow_images = size(yellow_resized_listing)\n",
    "green_resized_listing = os.listdir(green_resized_dir) \n",
    "num_green_images = size(green_resized_listing)\n",
    "\n",
    "print ('red images = ', num_red_images)\n",
    "print ('yellow images = ', num_yellow_images)\n",
    "print ('green images = ', num_green_images)"
   ]
  },
  {
   "cell_type": "code",
   "execution_count": 58,
   "metadata": {},
   "outputs": [
    {
     "name": "stdout",
     "output_type": "stream",
     "text": [
      "[[[122 153 197]\n",
      "  [122 153 197]\n",
      "  [122 153 197]\n",
      "  ...\n",
      "  [129 164 202]\n",
      "  [130 165 203]\n",
      "  [128 166 205]]\n",
      "\n",
      " [[124 155 199]\n",
      "  [124 155 199]\n",
      "  [124 155 199]\n",
      "  ...\n",
      "  [130 165 205]\n",
      "  [128 166 205]\n",
      "  [129 167 206]]\n",
      "\n",
      " [[126 157 201]\n",
      "  [126 157 201]\n",
      "  [126 157 201]\n",
      "  ...\n",
      "  [131 166 208]\n",
      "  [130 167 209]\n",
      "  [129 168 209]]\n",
      "\n",
      " ...\n",
      "\n",
      " [[ 10   6   0]\n",
      "  [  7   3   0]\n",
      "  [ 21  16  10]\n",
      "  ...\n",
      "  [ 17  19   6]\n",
      "  [  2   4   0]\n",
      "  [  3   5   0]]\n",
      "\n",
      " [[ 11   1   0]\n",
      "  [  7   0   0]\n",
      "  [ 39  30  21]\n",
      "  ...\n",
      "  [  6   8   0]\n",
      "  [  9  11   0]\n",
      "  [ 16  19   8]]\n",
      "\n",
      " [[ 10   0   0]\n",
      "  [ 10   0   0]\n",
      "  [ 56  46  36]\n",
      "  ...\n",
      "  [ 11  13   2]\n",
      "  [ 13  16   5]\n",
      "  [  6   9   0]]]\n"
     ]
    }
   ],
   "source": [
    "print (img_matrix[0])"
   ]
  },
  {
   "cell_type": "code",
   "execution_count": 59,
   "metadata": {},
   "outputs": [],
   "source": [
    "num_samples = 1437\n",
    "label=np.zeros((num_samples,),dtype = int)\n",
    "label[0:1043]=0\n",
    "label[1043:1183]=1\n",
    "label[1183:]=2"
   ]
  },
  {
   "cell_type": "code",
   "execution_count": 60,
   "metadata": {},
   "outputs": [],
   "source": [
    "data,Label = shuffle(img_matrix,label, random_state=2)\n",
    "train_data = [data,Label]"
   ]
  },
  {
   "cell_type": "code",
   "execution_count": 61,
   "metadata": {},
   "outputs": [
    {
     "data": {
      "text/plain": [
       "<matplotlib.image.AxesImage at 0x7f7c53edc7f0>"
      ]
     },
     "execution_count": 61,
     "metadata": {},
     "output_type": "execute_result"
    },
    {
     "data": {
      "image/png": "[encoded data removed]",
      "text/plain": [
       "<Figure size 432x288 with 1 Axes>"
      ]
     },
     "metadata": {},
     "output_type": "display_data"
    }
   ],
   "source": [
    "img=img_matrix[0]\n",
    "plt.imshow(img)"
   ]
  },
  {
   "cell_type": "code",
   "execution_count": 62,
   "metadata": {},
   "outputs": [
    {
     "name": "stdout",
     "output_type": "stream",
     "text": [
      "(1437, 32, 32, 3)\n",
      "(1437,)\n"
     ]
    }
   ],
   "source": [
    "print (train_data[0].shape)\n",
    "print (train_data[1].shape)"
   ]
  },
  {
   "cell_type": "code",
   "execution_count": 63,
   "metadata": {},
   "outputs": [],
   "source": [
    "#batch_size to train\n",
    "batch_size = 32\n",
    "# number of output classes\n",
    "nb_classes = 3\n",
    "# number of epochs to train\n",
    "nb_epoch = 20\n",
    "\n",
    "\n",
    "# number of convolutional filters to use\n",
    "nb_filters = 32\n",
    "# size of pooling area for max pooling\n",
    "nb_pool = 2\n",
    "# convolution kernel size\n",
    "nb_conv = 3"
   ]
  },
  {
   "cell_type": "code",
   "execution_count": 64,
   "metadata": {},
   "outputs": [],
   "source": [
    "#%%\n",
    "(X, y) = (train_data[0],train_data[1])\n",
    "\n",
    "\n",
    "# STEP 1: split X and y into training and testing sets\n",
    "\n",
    "X_train, X_test, y_train, y_test = train_test_split(X, y, test_size=0.2, random_state=4)"
   ]
  },
  {
   "cell_type": "code",
   "execution_count": 65,
   "metadata": {},
   "outputs": [],
   "source": [
    "X_train = X_train.astype('float32')\n",
    "X_test = X_test.astype('float32')\n",
    "\n",
    "X_train /= 255\n",
    "X_test /= 255"
   ]
  },
  {
   "cell_type": "code",
   "execution_count": 66,
   "metadata": {},
   "outputs": [
    {
     "name": "stdout",
     "output_type": "stream",
     "text": [
      "X_train shape: (1149, 32, 32, 3)\n",
      "1149 train samples\n",
      "288 test samples\n"
     ]
    }
   ],
   "source": [
    "print('X_train shape:', X_train.shape)\n",
    "print(X_train.shape[0], 'train samples')\n",
    "print(X_test.shape[0], 'test samples')"
   ]
  },
  {
   "cell_type": "code",
   "execution_count": 67,
   "metadata": {},
   "outputs": [],
   "source": [
    "nb_classes = 3\n",
    "# convert class vectors to binary class matrices\n",
    "Y_train = np_utils.to_categorical(y_train, nb_classes)\n",
    "Y_test = np_utils.to_categorical(y_test, nb_classes)"
   ]
  },
  {
   "cell_type": "code",
   "execution_count": 68,
   "metadata": {},
   "outputs": [
    {
     "name": "stderr",
     "output_type": "stream",
     "text": [
      "/root/.local/lib/python3.5/site-packages/ipykernel_launcher.py:5: UserWarning: Update your `Conv2D` call to the Keras 2 API: `Conv2D(32, (3, 3), input_shape=(32, 32, 3..., padding=\"same\")`\n",
      "  \"\"\"\n",
      "/root/.local/lib/python3.5/site-packages/ipykernel_launcher.py:7: UserWarning: Update your `Conv2D` call to the Keras 2 API: `Conv2D(32, (3, 3))`\n",
      "  import sys\n",
      "/root/.local/lib/python3.5/site-packages/ipykernel_launcher.py:12: UserWarning: Update your `Conv2D` call to the Keras 2 API: `Conv2D(64, (3, 3), padding=\"same\")`\n",
      "  if sys.path[0] == '':\n",
      "/root/.local/lib/python3.5/site-packages/ipykernel_launcher.py:14: UserWarning: Update your `Conv2D` call to the Keras 2 API: `Conv2D(64, (3, 3))`\n",
      "  \n"
     ]
    },
    {
     "name": "stdout",
     "output_type": "stream",
     "text": [
      "_________________________________________________________________\n",
      "Layer (type)                 Output Shape              Param #   \n",
      "=================================================================\n",
      "conv2d_13 (Conv2D)           (None, 32, 32, 32)        896       \n",
      "_________________________________________________________________\n",
      "activation_19 (Activation)   (None, 32, 32, 32)        0         \n",
      "_________________________________________________________________\n",
      "conv2d_14 (Conv2D)           (None, 30, 30, 32)        9248      \n",
      "_________________________________________________________________\n",
      "activation_20 (Activation)   (None, 30, 30, 32)        0         \n",
      "_________________________________________________________________\n",
      "max_pooling2d_7 (MaxPooling2 (None, 15, 15, 32)        0         \n",
      "_________________________________________________________________\n",
      "dropout_10 (Dropout)         (None, 15, 15, 32)        0         \n",
      "_________________________________________________________________\n",
      "conv2d_15 (Conv2D)           (None, 15, 15, 64)        18496     \n",
      "_________________________________________________________________\n",
      "activation_21 (Activation)   (None, 15, 15, 64)        0         \n",
      "_________________________________________________________________\n",
      "conv2d_16 (Conv2D)           (None, 13, 13, 64)        36928     \n",
      "_________________________________________________________________\n",
      "activation_22 (Activation)   (None, 13, 13, 64)        0         \n",
      "_________________________________________________________________\n",
      "max_pooling2d_8 (MaxPooling2 (None, 6, 6, 64)          0         \n",
      "_________________________________________________________________\n",
      "dropout_11 (Dropout)         (None, 6, 6, 64)          0         \n",
      "_________________________________________________________________\n",
      "flatten_4 (Flatten)          (None, 2304)              0         \n",
      "_________________________________________________________________\n",
      "dense_7 (Dense)              (None, 512)               1180160   \n",
      "_________________________________________________________________\n",
      "activation_23 (Activation)   (None, 512)               0         \n",
      "_________________________________________________________________\n",
      "dropout_12 (Dropout)         (None, 512)               0         \n",
      "_________________________________________________________________\n",
      "dense_8 (Dense)              (None, 3)                 1539      \n",
      "_________________________________________________________________\n",
      "activation_24 (Activation)   (None, 3)                 0         \n",
      "=================================================================\n",
      "Total params: 1,247,267\n",
      "Trainable params: 1,247,267\n",
      "Non-trainable params: 0\n",
      "_________________________________________________________________\n"
     ]
    }
   ],
   "source": [
    "model = network2()\n",
    "model.summary()"
   ]
  },
  {
   "cell_type": "code",
   "execution_count": 69,
   "metadata": {},
   "outputs": [
    {
     "name": "stderr",
     "output_type": "stream",
     "text": [
      "/usr/local/lib/python3.5/dist-packages/keras/models.py:942: UserWarning: The `nb_epoch` argument in `fit` has been renamed `epochs`.\n",
      "  warnings.warn('The `nb_epoch` argument in `fit` '\n"
     ]
    },
    {
     "name": "stdout",
     "output_type": "stream",
     "text": [
      "Train on 919 samples, validate on 230 samples\n",
      "Epoch 1/20\n",
      "919/919 [==============================] - 16s 17ms/step - loss: 0.7897 - acc: 0.7171 - val_loss: 0.7051 - val_acc: 0.7217\n",
      "Epoch 2/20\n",
      "919/919 [==============================] - 14s 16ms/step - loss: 0.5950 - acc: 0.7552 - val_loss: 0.4184 - val_acc: 0.8261\n",
      "Epoch 3/20\n",
      "919/919 [==============================] - 15s 16ms/step - loss: 0.3560 - acc: 0.8618 - val_loss: 0.2679 - val_acc: 0.9130\n",
      "Epoch 4/20\n",
      "919/919 [==============================] - 15s 16ms/step - loss: 0.2220 - acc: 0.9042 - val_loss: 0.2164 - val_acc: 0.9522\n",
      "Epoch 5/20\n",
      "919/919 [==============================] - 15s 17ms/step - loss: 0.2134 - acc: 0.9217 - val_loss: 0.2128 - val_acc: 0.9304\n",
      "Epoch 6/20\n",
      "919/919 [==============================] - 15s 17ms/step - loss: 0.1510 - acc: 0.9467 - val_loss: 0.1759 - val_acc: 0.9609\n",
      "Epoch 7/20\n",
      "919/919 [==============================] - 15s 17ms/step - loss: 0.1372 - acc: 0.9456 - val_loss: 0.1540 - val_acc: 0.9739\n",
      "Epoch 8/20\n",
      "919/919 [==============================] - 15s 17ms/step - loss: 0.1032 - acc: 0.9619 - val_loss: 0.1559 - val_acc: 0.9783\n",
      "Epoch 9/20\n",
      "919/919 [==============================] - 15s 17ms/step - loss: 0.0992 - acc: 0.9641 - val_loss: 0.1358 - val_acc: 0.9739\n",
      "Epoch 10/20\n",
      "919/919 [==============================] - 15s 17ms/step - loss: 0.1024 - acc: 0.9619 - val_loss: 0.1253 - val_acc: 0.9826\n",
      "Epoch 11/20\n",
      "919/919 [==============================] - 15s 16ms/step - loss: 0.1050 - acc: 0.9597 - val_loss: 0.1344 - val_acc: 0.9870\n",
      "Epoch 12/20\n",
      "919/919 [==============================] - 15s 16ms/step - loss: 0.0956 - acc: 0.9728 - val_loss: 0.1349 - val_acc: 0.9739\n",
      "Epoch 13/20\n",
      "919/919 [==============================] - 15s 16ms/step - loss: 0.0757 - acc: 0.9674 - val_loss: 0.1204 - val_acc: 0.9783\n",
      "Epoch 14/20\n",
      "919/919 [==============================] - 15s 16ms/step - loss: 0.0678 - acc: 0.9750 - val_loss: 0.1178 - val_acc: 0.9826\n",
      "Epoch 15/20\n",
      "919/919 [==============================] - 15s 16ms/step - loss: 0.0738 - acc: 0.9728 - val_loss: 0.1234 - val_acc: 0.9783\n",
      "Epoch 16/20\n",
      "919/919 [==============================] - 15s 17ms/step - loss: 0.0611 - acc: 0.9771 - val_loss: 0.1171 - val_acc: 0.9870\n",
      "Epoch 17/20\n",
      "919/919 [==============================] - 15s 17ms/step - loss: 0.0701 - acc: 0.9793 - val_loss: 0.1256 - val_acc: 0.9826\n",
      "Epoch 18/20\n",
      "919/919 [==============================] - 15s 16ms/step - loss: 0.0484 - acc: 0.9782 - val_loss: 0.1380 - val_acc: 0.9739\n",
      "Epoch 19/20\n",
      "919/919 [==============================] - 15s 16ms/step - loss: 0.0466 - acc: 0.9804 - val_loss: 0.1144 - val_acc: 0.9870\n",
      "Epoch 20/20\n",
      "919/919 [==============================] - 15s 16ms/step - loss: 0.0346 - acc: 0.9913 - val_loss: 0.1193 - val_acc: 0.9826\n"
     ]
    }
   ],
   "source": [
    "model.compile('adam', 'categorical_crossentropy', ['accuracy'])\n",
    "\n",
    "history = model.fit(X_train, Y_train, nb_epoch=20,verbose=1, validation_split=0.2)\n",
    "\n",
    "model.save('AVO4_model.h5')\n",
    " "
   ]
  },
  {
   "cell_type": "code",
   "execution_count": 70,
   "metadata": {},
   "outputs": [
    {
     "name": "stdout",
     "output_type": "stream",
     "text": [
      "_________________________________________________________________\n",
      "Layer (type)                 Output Shape              Param #   \n",
      "=================================================================\n",
      "conv2d_13 (Conv2D)           (None, 32, 32, 32)        896       \n",
      "_________________________________________________________________\n",
      "activation_19 (Activation)   (None, 32, 32, 32)        0         \n",
      "_________________________________________________________________\n",
      "conv2d_14 (Conv2D)           (None, 30, 30, 32)        9248      \n",
      "_________________________________________________________________\n",
      "activation_20 (Activation)   (None, 30, 30, 32)        0         \n",
      "_________________________________________________________________\n",
      "max_pooling2d_7 (MaxPooling2 (None, 15, 15, 32)        0         \n",
      "_________________________________________________________________\n",
      "dropout_10 (Dropout)         (None, 15, 15, 32)        0         \n",
      "_________________________________________________________________\n",
      "conv2d_15 (Conv2D)           (None, 15, 15, 64)        18496     \n",
      "_________________________________________________________________\n",
      "activation_21 (Activation)   (None, 15, 15, 64)        0         \n",
      "_________________________________________________________________\n",
      "conv2d_16 (Conv2D)           (None, 13, 13, 64)        36928     \n",
      "_________________________________________________________________\n",
      "activation_22 (Activation)   (None, 13, 13, 64)        0         \n",
      "_________________________________________________________________\n",
      "max_pooling2d_8 (MaxPooling2 (None, 6, 6, 64)          0         \n",
      "_________________________________________________________________\n",
      "dropout_11 (Dropout)         (None, 6, 6, 64)          0         \n",
      "_________________________________________________________________\n",
      "flatten_4 (Flatten)          (None, 2304)              0         \n",
      "_________________________________________________________________\n",
      "dense_7 (Dense)              (None, 512)               1180160   \n",
      "_________________________________________________________________\n",
      "activation_23 (Activation)   (None, 512)               0         \n",
      "_________________________________________________________________\n",
      "dropout_12 (Dropout)         (None, 512)               0         \n",
      "_________________________________________________________________\n",
      "dense_8 (Dense)              (None, 3)                 1539      \n",
      "_________________________________________________________________\n",
      "activation_24 (Activation)   (None, 3)                 0         \n",
      "=================================================================\n",
      "Total params: 1,247,267\n",
      "Trainable params: 1,247,267\n",
      "Non-trainable params: 0\n",
      "_________________________________________________________________\n"
     ]
    }
   ],
   "source": [
    "model=load_model('AVO4_model.h5')\n",
    "model.summary()"
   ]
  },
  {
   "cell_type": "code",
   "execution_count": 71,
   "metadata": {},
   "outputs": [
    {
     "name": "stdout",
     "output_type": "stream",
     "text": [
      "Testing\n",
      "288/288 [==============================] - 2s 6ms/step\n"
     ]
    }
   ],
   "source": [
    "print(\"Testing\")\n",
    "\n",
    "metrics = model.evaluate(X_test, Y_test)"
   ]
  },
  {
   "cell_type": "code",
   "execution_count": 72,
   "metadata": {},
   "outputs": [
    {
     "name": "stdout",
     "output_type": "stream",
     "text": [
      "loss: 0.13807245590982753\n",
      "acc: 0.9791666666666666\n"
     ]
    }
   ],
   "source": [
    "for metric_i in range(len(model.metrics_names)):\n",
    "        metric_name = model.metrics_names[metric_i]\n",
    "        metric_value = metrics[metric_i]\n",
    "        print('{}: {}'.format(metric_name, metric_value))"
   ]
  },
  {
   "cell_type": "code",
   "execution_count": 73,
   "metadata": {},
   "outputs": [
    {
     "name": "stdout",
     "output_type": "stream",
     "text": [
      "[0]\n",
      "RED\n"
     ]
    }
   ],
   "source": [
    "\n",
    "#file_path = '/root/TRAFFIC/TRAFFIC/traffic-light-classifier/data/red6.jpg'\n",
    "#file_path = '/root/TRAFFIC/TRAFFIC/traffic-light-classifier/data/green.jpg'\n",
    "#file_path = '/root/TRAFFIC/TRAFFIC/traffic-light-classifier/data/yellow2.jpg'\n",
    "#file_path = '/root/TRAFFIC/TRAFFIC/traffic-light-classifier/data/image1.jpg'\n",
    "#file_path = '/root/TRAFFIC/TRAFFIC/traffic-light-classifier/data/roi8.jpg'\n",
    "#file_path = '/root/TRAFFIC/TRAFFIC/traffic-light-classifier/data/StopLightImage_1.jpg'\n",
    "#file_path = '/root/TRAFFIC/TRAFFIC/traffic-light-classifier/data/StopLightImage_2.jpg'\n",
    "\n",
    "#file_path = '/root/TRAFFIC/TRAFFIC/DATA/red_resized/red_resizedleft8804.jpg'\n",
    "#file_path = '/root/TRAFFIC/TRAFFIC/DATA/yellow_resized/left8711.jpg'\n",
    "#file_path = '/root/TRAFFIC/TRAFFIC/DATA/green_resized/left8691.jpg'\n",
    "\n",
    "\n",
    "file_path = '/root/TRAFFIC/TRAFFIC/DATA/red/left8804.jpg'\n",
    "#file_path = '/root/TRAFFIC/TRAFFIC/DATA/green/left8691.jpg'\n",
    "\n",
    "desired_dim=(32,32)\n",
    "img = cv2.imread(file_path)\n",
    "img_resized = cv2.resize(img, desired_dim, interpolation=cv2.INTER_LINEAR)\n",
    "img_ = np.expand_dims(np.array(img_resized), axis=0)\n",
    "\n",
    "classes = model.predict_classes(img_)\n",
    "\n",
    "print (classes)\n",
    "if classes == 2:\n",
    "    print (\"GREEN\")\n",
    "if classes == 1:\n",
    "    print (\"YELLOW\")\n",
    "if classes == 0:\n",
    "    print (\"RED\")\n"
   ]
  },
  {
   "cell_type": "code",
   "execution_count": 75,
   "metadata": {},
   "outputs": [
    {
     "name": "stdout",
     "output_type": "stream",
     "text": [
      "[1]\n",
      "YELLOW\n"
     ]
    }
   ],
   "source": [
    "from keras.preprocessing import image\n",
    "# Classes = { 1: red, 2: yellow, 3: green, 4:off}\n",
    "#file_path = '/root/TRAFFIC/TRAFFIC/traffic-light-classifier/data/red6.jpg'\n",
    "#file_path = '/root/TRAFFIC/TRAFFIC/traffic-light-classifier/data/green.jpg'\n",
    "#file_path = '/root/TRAFFIC/TRAFFIC/traffic-light-classifier/data/yellow.jpg'\n",
    "#file_path = '/root/TRAFFIC/TRAFFIC/traffic-light-classifier/data/StopLightImage_2.jpg'\n",
    "#file_path = '/root/TRAFFIC/TRAFFIC/traffic-light-classifier/data/image1.jpg'\n",
    "#file_path = '/root/TRAFFIC/TRAFFIC/traffic-light-classifier/data/roi1.jpg'\n",
    "#file_path = '/root/TRAFFIC/TRAFFIC/traffic-light-classifier/data/roi8.jpg'\n",
    "#file_path = '/root/TRAFFIC/TRAFFIC/traffic-light-classifier/data/StopLightImage_1.jpg'\n",
    "#file_path = '/root/TRAFFIC/TRAFFIC/traffic-light-classifier/data/left0073.jpg'\n",
    "\n",
    "\n",
    "#file_path = '/root/TRAFFIC/TRAFFIC/DATA/red_resized/red_resizedleft8804.jpg'\n",
    "#file_path = '/root/TRAFFIC/TRAFFIC/DATA/yellow_resized/left8711.jpg'\n",
    "#file_path = '/root/TRAFFIC/TRAFFIC/DATA/green_resized/left8687.jpg'\n",
    "\n",
    "#file_path = '/root/TRAFFIC/TRAFFIC/DATA/red/left8804.jpg'\n",
    "#file_path = '/root/TRAFFIC/TRAFFIC/DATA/green/left8687.jpg'\n",
    "file_path = '/root/TRAFFIC/TRAFFIC/DATA/yellow/left8711.jpg'\n",
    "\n",
    "image1  = image.load_img(file_path, target_size=(32,32))\n",
    "x = image.img_to_array(image1)\n",
    "x = np.expand_dims(x,axis=0)\n",
    "images = np.vstack([x])\n",
    "classes = model.predict_classes(images, batch_size=1)\n",
    "\n",
    "\n",
    "#y_classes = np_utils.argmax(classes)\n",
    "#y_classes = keras.np_utils.probas_to_classes(y_proba)\n",
    "\n",
    "\n",
    "#generator= train_datagen.flow_from_directory(\"./\", batch_size=batch_size)\n",
    "#label_map = (generator.class_indices)\n",
    "\n",
    "#print ('Class Predicted = ', label_map)\n",
    "\n",
    "print (classes)\n",
    "if classes == 2:\n",
    "    print (\"GREEN\")\n",
    "if classes == 1:\n",
    "    print (\"YELLOW\")\n",
    "if classes == 0:\n",
    "    print (\"RED\")\n",
    "\n"
   ]
  },
  {
   "cell_type": "code",
   "execution_count": null,
   "metadata": {},
   "outputs": [],
   "source": []
  }
 ],
 "metadata": {
  "kernelspec": {
   "display_name": "Python 3",
   "language": "python",
   "name": "python3"
  },
  "language_info": {
   "codemirror_mode": {
    "name": "ipython",
    "version": 3
   },
   "file_extension": ".py",
   "mimetype": "text/x-python",
   "name": "python",
   "nbconvert_exporter": "python",
   "pygments_lexer": "ipython3",
   "version": "3.5.2"
  }
 },
 "nbformat": 4,
 "nbformat_minor": 2
}
