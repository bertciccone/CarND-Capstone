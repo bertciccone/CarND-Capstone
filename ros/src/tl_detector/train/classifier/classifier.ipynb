{
 "cells": [
  {
   "cell_type": "code",
   "execution_count": 1,
   "metadata": {},
   "outputs": [
    {
     "name": "stderr",
     "output_type": "stream",
     "text": [
      "Using TensorFlow backend.\n"
     ]
    }
   ],
   "source": [
    "import os\n",
    "import cv2\n",
    "import numpy as np\n",
    "\n",
    "import skimage\n",
    "import skimage.io\n",
    "import skimage.transform\n",
    "\n",
    "from sklearn.model_selection import StratifiedShuffleSplit\n",
    "import sklearn.preprocessing\n",
    "from sklearn.utils import class_weight\n",
    "\n",
    "from keras.preprocessing.image import ImageDataGenerator\n",
    "from keras.models import Sequential\n",
    "from keras.models import load_model\n",
    "from keras.layers import Conv2D, MaxPooling2D\n",
    "from keras.layers import Activation, Dropout, Flatten, Dense\n",
    "from keras import backend as K\n"
   ]
  },
  {
   "cell_type": "code",
   "execution_count": 2,
   "metadata": {},
   "outputs": [],
   "source": [
    "IMG_WIDTH=32\n",
    "IMG_HEIGHT=64\n",
    "NUM_CLASSES=4\n",
    "CLASSES=['red', 'yellow', 'green', 'unknown']\n",
    "\n",
    "ENV='lot'   # sim or lot"
   ]
  },
  {
   "cell_type": "code",
   "execution_count": 3,
   "metadata": {},
   "outputs": [],
   "source": [
    "def load_image(path):\n",
    "    # load image\n",
    "    img = skimage.io.imread(path)\n",
    "    \n",
    "    # convert to floating point\n",
    "    img = img / 255.0\n",
    "       \n",
    "    return img\n"
   ]
  },
  {
   "cell_type": "code",
   "execution_count": 4,
   "metadata": {},
   "outputs": [],
   "source": [
    "class DataSet:\n",
    "    def __init__(self):\n",
    "        self.labels = []\n",
    "        self.labels_oh = None\n",
    "        self.image_paths = []\n",
    "        self.num_samples = 0\n",
    "        self.images = None\n",
    "\n",
    "        self.indices_train = None\n",
    "        self.indices_val = None\n",
    "        \n",
    "        self.generator_train = None\n",
    "        self.generator_valid = None\n",
    "        self.numperclass = {'red':0, 'yellow':0, 'green':0, 'unknown':0}\n",
    "    def load_data(self):\n",
    "        # load data\n",
    "        for label, name in enumerate(CLASSES):\n",
    "            for root, dirs, files in os.walk(os.path.join('..', 'data_lights', ENV, name)):\n",
    "                for filename in files:\n",
    "                    self.labels.append(label)\n",
    "                    self.image_paths.append(os.path.join(root,filename))\n",
    "                    self.numperclass[name] = self.numperclass[name] + 1\n",
    "                    \n",
    "        self.images = np.array([load_image(path) for path in self.image_paths])\n",
    "\n",
    "        # process data\n",
    "        self.labels = np.array(self.labels)\n",
    "        self.images = np.array(self.images)\n",
    "\n",
    "        lb = sklearn.preprocessing.LabelBinarizer()\n",
    "        self.labels_oh = lb.fit_transform(self.labels)\n",
    "        \n",
    "        self.num_samples = self.labels.shape[0]\n",
    "\n",
    "        # split dataset\n",
    "        ss = StratifiedShuffleSplit(n_splits=1, test_size=0.2)\n",
    "        splitter = ss.split(np.zeros(self.num_samples), self.labels_oh)\n",
    "        self.indices_train, self.indices_val = next(splitter)\n",
    "        \n",
    "    def create_generators(self, batch_size=16):\n",
    "        # define data-generator for training set (zoom and flip the images)\n",
    "        train_datagen = ImageDataGenerator(\n",
    "            shear_range=0.0,\n",
    "            zoom_range=0.2,\n",
    "            rotation_range=0,\n",
    "            horizontal_flip=True)\n",
    "\n",
    "        self.generator_train = train_datagen.flow(\n",
    "            self.images[self.indices_train],\n",
    "            self.labels_oh[self.indices_train],\n",
    "            batch_size=batch_size)\n",
    "\n",
    "        # define data-generator for testing/validation (no modification)\n",
    "        test_datagen = ImageDataGenerator()\n",
    "        self.generator_valid = test_datagen.flow(\n",
    "            self.images[self.indices_val],\n",
    "            self.labels_oh[self.indices_val],\n",
    "            batch_size=batch_size)\n",
    "     \n",
    "dataset = DataSet()"
   ]
  },
  {
   "cell_type": "code",
   "execution_count": 5,
   "metadata": {},
   "outputs": [],
   "source": [
    "def create_model():\n",
    "    if K.image_data_format() == 'channels_first':\n",
    "        input_shape = (3, IMG_HEIGHT, IMG_WIDTH)\n",
    "    else:\n",
    "        input_shape = (IMG_HEIGHT, IMG_WIDTH, 3)\n",
    "        \n",
    "    model = Sequential()\n",
    "    model.add(Conv2D(16, (1, 1), input_shape=input_shape))\n",
    "    model.add(Activation('relu'))\n",
    "    \n",
    "    model.add(Conv2D(32, (3, 3)))\n",
    "    model.add(Activation('relu'))\n",
    "    model.add(MaxPooling2D(pool_size=(2, 2)))\n",
    "\n",
    "    model.add(Conv2D(32, (3, 3)))\n",
    "    model.add(Activation('relu'))\n",
    "    model.add(MaxPooling2D(pool_size=(2, 2)))\n",
    "\n",
    "    model.add(Conv2D(64, (3, 3)))\n",
    "    model.add(Activation('relu'))\n",
    "    model.add(MaxPooling2D(pool_size=(2, 2)))\n",
    "\n",
    "    model.add(Flatten())\n",
    "    model.add(Dense(1024, activation='relu'))\n",
    "    model.add(Dropout(0.5))\n",
    "\n",
    "    model.add(Dense(1024, activation='relu'))\n",
    "    model.add(Dropout(0.5))\n",
    "\n",
    "    model.add(Dense(64, activation='relu'))\n",
    "    model.add(Dense(NUM_CLASSES, activation='softmax'))           \n",
    "    \n",
    "    model.compile(loss='categorical_crossentropy',\n",
    "                           optimizer='rmsprop',\n",
    "                           metrics=['accuracy'])\n",
    "    \n",
    "    return model\n"
   ]
  },
  {
   "cell_type": "code",
   "execution_count": 6,
   "metadata": {},
   "outputs": [],
   "source": [
    "def checkpoint_file():\n",
    "    return \"classifier_{}.h5\".format(ENV)"
   ]
  },
  {
   "cell_type": "code",
   "execution_count": 7,
   "metadata": {
    "scrolled": false
   },
   "outputs": [],
   "source": [
    "model = create_model()"
   ]
  },
  {
   "cell_type": "code",
   "execution_count": 8,
   "metadata": {},
   "outputs": [],
   "source": [
    "dataset.load_data()"
   ]
  },
  {
   "cell_type": "code",
   "execution_count": 9,
   "metadata": {},
   "outputs": [],
   "source": [
    "dataset.create_generators()"
   ]
  },
  {
   "cell_type": "code",
   "execution_count": 10,
   "metadata": {},
   "outputs": [
    {
     "name": "stdout",
     "output_type": "stream",
     "text": [
      "{'unknown': 144, 'green': 643, 'yellow': 243, 'red': 278}\n",
      "[ 1.17625899  1.34567901  0.50855365  2.27083333]\n"
     ]
    }
   ],
   "source": [
    "print(dataset.numperclass)\n",
    "\n",
    "class_weights = class_weight.compute_class_weight('balanced', np.unique(dataset.labels), dataset.labels)\n",
    "\n",
    "print(class_weights)"
   ]
  },
  {
   "cell_type": "code",
   "execution_count": 11,
   "metadata": {},
   "outputs": [],
   "source": [
    "def classifier_train(p_epochs, p_batch_size=16):     \n",
    "    # train the model\n",
    "    \n",
    "    model.fit_generator(\n",
    "        dataset.generator_train,\n",
    "        steps_per_epoch=(len(dataset.indices_train) // p_batch_size)*2,\n",
    "        epochs=p_epochs,\n",
    "        verbose=1,\n",
    "        validation_data=dataset.generator_valid,\n",
    "        validation_steps=len(dataset.indices_val) // p_batch_size, class_weight=class_weights)\n",
    "\n",
    "    model.save(checkpoint_file())"
   ]
  },
  {
   "cell_type": "code",
   "execution_count": 12,
   "metadata": {
    "scrolled": false
   },
   "outputs": [
    {
     "name": "stdout",
     "output_type": "stream",
     "text": [
      "Epoch 1/15\n",
      "130/130 [==============================] - 10s - loss: 0.6826 - acc: 0.7474 - val_loss: 0.2846 - val_acc: 0.9336\n",
      "Epoch 2/15\n",
      "130/130 [==============================] - 10s - loss: 0.4066 - acc: 0.8748 - val_loss: 0.2803 - val_acc: 0.8984\n",
      "Epoch 3/15\n",
      "130/130 [==============================] - 10s - loss: 0.3785 - acc: 0.8938 - val_loss: 0.2511 - val_acc: 0.9309\n",
      "Epoch 4/15\n",
      "130/130 [==============================] - 10s - loss: 0.4466 - acc: 0.8907 - val_loss: 0.1998 - val_acc: 0.9593\n",
      "Epoch 5/15\n",
      "130/130 [==============================] - 10s - loss: 0.3099 - acc: 0.9095 - val_loss: 0.2739 - val_acc: 0.9187\n",
      "Epoch 6/15\n",
      "130/130 [==============================] - 10s - loss: 0.3188 - acc: 0.9183 - val_loss: 0.2148 - val_acc: 0.9675\n",
      "Epoch 7/15\n",
      "130/130 [==============================] - 10s - loss: 0.4010 - acc: 0.8958 - val_loss: 0.1684 - val_acc: 0.9634\n",
      "Epoch 8/15\n",
      "130/130 [==============================] - 10s - loss: 0.3098 - acc: 0.9160 - val_loss: 0.1941 - val_acc: 0.9431\n",
      "Epoch 9/15\n",
      "130/130 [==============================] - 10s - loss: 0.3401 - acc: 0.9146 - val_loss: 1.4271 - val_acc: 0.6829\n",
      "Epoch 10/15\n",
      "130/130 [==============================] - 10s - loss: 0.5211 - acc: 0.9014 - val_loss: 0.2331 - val_acc: 0.9431\n",
      "Epoch 11/15\n",
      "130/130 [==============================] - 10s - loss: 0.5156 - acc: 0.9006 - val_loss: 0.3305 - val_acc: 0.9350\n",
      "Epoch 12/15\n",
      "130/130 [==============================] - 10s - loss: 0.4513 - acc: 0.9086 - val_loss: 0.1851 - val_acc: 0.9593\n",
      "Epoch 13/15\n",
      "130/130 [==============================] - 10s - loss: 0.6028 - acc: 0.9077 - val_loss: 0.2122 - val_acc: 0.9512\n",
      "Epoch 14/15\n",
      "130/130 [==============================] - 10s - loss: 0.6713 - acc: 0.9024 - val_loss: 0.2243 - val_acc: 0.9472\n",
      "Epoch 15/15\n",
      "130/130 [==============================] - 10s - loss: 0.5145 - acc: 0.9119 - val_loss: 0.3953 - val_acc: 0.9309\n"
     ]
    }
   ],
   "source": [
    "classifier_train(15)"
   ]
  },
  {
   "cell_type": "code",
   "execution_count": null,
   "metadata": {},
   "outputs": [],
   "source": []
  },
  {
   "cell_type": "code",
   "execution_count": null,
   "metadata": {},
   "outputs": [],
   "source": []
  }
 ],
 "metadata": {
  "kernelspec": {
   "display_name": "Python 2",
   "language": "python",
   "name": "python2"
  },
  "language_info": {
   "codemirror_mode": {
    "name": "ipython",
    "version": 2
   },
   "file_extension": ".py",
   "mimetype": "text/x-python",
   "name": "python",
   "nbconvert_exporter": "python",
   "pygments_lexer": "ipython2",
   "version": "2.7.12"
  }
 },
 "nbformat": 4,
 "nbformat_minor": 2
}
